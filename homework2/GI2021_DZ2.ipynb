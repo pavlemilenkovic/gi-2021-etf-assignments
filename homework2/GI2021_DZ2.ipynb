{
 "cells": [
  {
   "cell_type": "markdown",
   "metadata": {},
   "source": [
    "# Genome Informatics 2021 - Homework no. 2\n",
    "## BAM file analysis\n",
    "### Introduction"
   ]
  },
  {
   "cell_type": "markdown",
   "metadata": {},
   "source": [
    "The second assignment in the Genome Informatics Course deals with the information extraction from an example BAM file. In order to gain the deeper understanding of how the data is being stored after the alignment process, students are required to perform simple tasks on the given data and present them in the form of a *Jupyter Notebook*. Data inspection and manipulation is performed with the help of *Pysam* module."
   ]
  },
  {
   "cell_type": "markdown",
   "metadata": {},
   "source": [
    "SAM stands for Sequence Alignment/Map format. It is a TAB-delimited text format consisting of a header\n",
    "section, which is optional, and an alignment section. \n",
    "A BAM file (\\*.bam) is the compressed binary version of a SAM file"
   ]
  },
  {
   "cell_type": "markdown",
   "metadata": {},
   "source": [
    "Additionaly, every BAM file can have its corresponding index file BAI (\\*.bai). BAI file acts like an external table of contents, and allows programs to jump directly to specific parts of the BAM file without reading through all of the sequences."
   ]
  },
  {
   "cell_type": "markdown",
   "metadata": {},
   "source": [
    "### Exercise"
   ]
  },
  {
   "cell_type": "markdown",
   "metadata": {},
   "source": [
    "In order to complete the assignment, we will have to perform the next steps:\n",
    "- Create an *AlignmentFile* object from a BAM file (*merged-tumor.bam*);\n",
    "- Take the first read from the *AlignmentFile* object and check its fields;\n",
    "- Check the flag column for some reads;\n",
    "- Calculate:\n",
    "  - Total number of reads;\n",
    "  - Number of unmapped reads;\n",
    "  - Number of reads with mapping quality 0;\n",
    "  - Average mapping quality of the reads (with and without the filtering of zero-quality reads)."
   ]
  },
  {
   "cell_type": "markdown",
   "metadata": {},
   "source": [
    "In the first step, we are creating an *AlignmentFile* object."
   ]
  },
  {
   "cell_type": "code",
   "execution_count": 3,
   "metadata": {},
   "outputs": [],
   "source": [
    "import pysam\n",
    "bamfile = pysam.AlignmentFile(\"/sbgenomics/project-files/merged-tumor.bam\", \"rb\")"
   ]
  },
  {
   "cell_type": "markdown",
   "metadata": {},
   "source": [
    "The next step is the initialization of all the counters and sums we are going to need. We are also allocating the memory for the first read, in order to inspect it later."
   ]
  },
  {
   "cell_type": "code",
   "execution_count": 4,
   "metadata": {},
   "outputs": [],
   "source": [
    "first_read = pysam.AlignedSegment\n",
    "num_of_reads = 0\n",
    "num_of_unmapped_reads = 0\n",
    "num_of_zero_q_reads = 0\n",
    "total_average_quality = 0\n",
    "filtered_average_quality = 0"
   ]
  },
  {
   "cell_type": "markdown",
   "metadata": {},
   "source": [
    "The main processing is performed within a *for* loop. For every read in the BAM file, we are inspecting certain fields and incrementing our counters and sums accordingly."
   ]
  },
  {
   "cell_type": "code",
   "execution_count": 5,
   "metadata": {},
   "outputs": [],
   "source": [
    "for read in bamfile:\n",
    "    # Extract the first read\n",
    "    if num_of_reads == 0:\n",
    "        first_read = read\n",
    "\n",
    "    # Check for the unmapped reads\n",
    "    if read.is_unmapped:\n",
    "        num_of_unmapped_reads = num_of_unmapped_reads + 1\n",
    "\n",
    "    # Check for the zero quality reads\n",
    "    if read.mapping_quality == 0:\n",
    "        num_of_zero_q_reads = num_of_zero_q_reads + 1\n",
    "    else:\n",
    "        filtered_average_quality = filtered_average_quality + read.mapping_quality\n",
    "\n",
    "    # Total number of reads\n",
    "    num_of_reads = num_of_reads + 1\n",
    "\n",
    "bamfile.close()"
   ]
  },
  {
   "cell_type": "markdown",
   "metadata": {},
   "source": [
    "Finaly, let's see the results:"
   ]
  },
  {
   "cell_type": "code",
   "execution_count": 6,
   "metadata": {},
   "outputs": [
    {
     "name": "stdout",
     "output_type": "stream",
     "text": [
      "Total number of reads in the file is 2921629\n",
      "Total number of unmapped reads in the file is 17765\n",
      "Total number of zero-quality reads is 126628\n",
      "Average quality of all reads is 55.91379158681681\n",
      "Average quailty of filtered reads is 58.446975510921106\n"
     ]
    }
   ],
   "source": [
    "print(\"Total number of reads in the file is \" + str(num_of_reads))\n",
    "print(\"Total number of unmapped reads in the file is \" +  str(num_of_unmapped_reads))\n",
    "print(\"Total number of zero-quality reads is \" + str(num_of_zero_q_reads))\n",
    "print(\"Average quality of all reads is \" + str(filtered_average_quality/num_of_reads))\n",
    "print(\"Average quailty of filtered reads is \" + str(filtered_average_quality/(num_of_reads-num_of_zero_q_reads)))"
   ]
  },
  {
   "cell_type": "markdown",
   "metadata": {},
   "source": [
    "Additionaly, we are going to get a closer look into what the content of the *AlignedSegment* object is."
   ]
  },
  {
   "cell_type": "code",
   "execution_count": 7,
   "metadata": {},
   "outputs": [
    {
     "name": "stdout",
     "output_type": "stream",
     "text": [
      "C0HVYACXX120402:7:1207:5722:57044\t1187\t20\t9483248\t27\t76M\t20\t9483381\t76\tTTTTCAAACAGTATCTATGCCTGCCAAATGTGAACATATAAAAAAAAACCAGAATGTGCCATTCTGATTTAAACTG\tarray('B', [28, 28, 27, 29, 31, 30, 31, 31, 29, 31, 35, 30, 29, 31, 34, 30, 29, 23, 41, 32, 20, 30, 29, 34, 34, 29, 30, 31, 30, 30, 30, 33, 33, 26, 39, 12, 25, 19, 32, 30, 35, 28, 35, 33, 23, 33, 35, 36, 30, 38, 33, 41, 34, 35, 31, 33, 23, 30, 30, 36, 27, 32, 29, 34, 35, 41, 33, 31, 33, 29, 32, 32, 31, 31, 31, 34])\t[('XA', 'GL000217.1,-110754,76M,1;'), ('BD', 'NNNNNNNNNNNNNNNNNNNNNNNNNNNNNNNNNNNNNNNNNNNNNNNNNNNNNNNNNNNNNNNNNNNNNNNNNNNN'), ('MD', '76'), ('RG', '1'), ('BI', 'NNNNNNNNNNNNNNNNNNNNNNNNNNNNNNNNNNNNNNNNNNNNNNNNNNNNNNNNNNNNNNNNNNNNNNNNNNNN'), ('NM', 0), ('MQ', 27), ('AS', 76), ('XS', 71)]\n"
     ]
    }
   ],
   "source": [
    "print(first_read)"
   ]
  },
  {
   "cell_type": "markdown",
   "metadata": {},
   "source": [
    "Let's take a closer look at the flag field."
   ]
  },
  {
   "cell_type": "code",
   "execution_count": 9,
   "metadata": {},
   "outputs": [
    {
     "name": "stdout",
     "output_type": "stream",
     "text": [
      "1187\n"
     ]
    }
   ],
   "source": [
    "first_read_flag = first_read.flag\n",
    "print(first_read_flag)"
   ]
  },
  {
   "cell_type": "markdown",
   "metadata": {},
   "source": [
    "Let's define a function that will help us analyse the value of the flag field better."
   ]
  },
  {
   "cell_type": "code",
   "execution_count": 8,
   "metadata": {},
   "outputs": [],
   "source": [
    "def flag_field_info(flag):\n",
    "    print(\"The value of the flag is: \" + str(flag))\n",
    "    if flag & 0x001:\n",
    "        print(\"Template has multiple segments in sequencing.\")\n",
    "    if flag & 0x002:\n",
    "        print(\"Each segment is properly aligned according to the aligner.\")\n",
    "    if flag & 0x004:\n",
    "        print(\"The segment is unmapped.\")\n",
    "    if flag & 0x008:\n",
    "        print(\"The next segment in the template is unmapped.\")\n",
    "    if flag & 0x010:\n",
    "        print(\"SEQ is reverse complemented.\")\n",
    "    if flag & 0x020:\n",
    "        print(\"SEQ of the next segment in the template is reverse complemented.\")\n",
    "    if flag & 0x040:\n",
    "        print(\"The first segment in the template.\")\n",
    "    if flag & 0x080:\n",
    "        print(\"The last segment in the template.\")\n",
    "    if flag & 0x100:\n",
    "        print(\"Secondary alignment.\")\n",
    "    if flag & 0x200:\n",
    "        print(\"Not passing filters, such as platform/vendor quality controls.\")\n",
    "    if flag & 0x400:\n",
    "        print(\"PCR or optical duplicate.\")\n",
    "    if flag & 0x800:\n",
    "        print(\"Supplementary alignment\")"
   ]
  },
  {
   "cell_type": "markdown",
   "metadata": {},
   "source": [
    "Finally, let's check the flag for our first read."
   ]
  },
  {
   "cell_type": "code",
   "execution_count": 10,
   "metadata": {},
   "outputs": [
    {
     "name": "stdout",
     "output_type": "stream",
     "text": [
      "The value of the flag is: 1187\n",
      "Template has multiple segments in sequencing.\n",
      "Each segment is properly aligned according to the aligner.\n",
      "SEQ of the next segment in the template is reverse complemented.\n",
      "The last segment in the template.\n",
      "PCR or optical duplicate.\n"
     ]
    }
   ],
   "source": [
    "flag_field_info(first_read_flag)"
   ]
  },
  {
   "cell_type": "code",
   "execution_count": null,
   "metadata": {},
   "outputs": [],
   "source": []
  }
 ],
 "metadata": {
  "kernelspec": {
   "display_name": "Python 3",
   "language": "python",
   "name": "python3"
  },
  "language_info": {
   "codemirror_mode": {
    "name": "ipython",
    "version": 3
   },
   "file_extension": ".py",
   "mimetype": "text/x-python",
   "name": "python",
   "nbconvert_exporter": "python",
   "pygments_lexer": "ipython3",
   "version": "3.8.3"
  }
 },
 "nbformat": 4,
 "nbformat_minor": 4
}
